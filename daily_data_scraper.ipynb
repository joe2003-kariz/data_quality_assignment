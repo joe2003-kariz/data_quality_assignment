{
 "cells": [
  {
   "cell_type": "markdown",
   "metadata": {},
   "source": [
    "# Daily Web Scraper for Public Data Sources\n",
    "This notebook fetches daily numeric data from:\n",
    "- U.S. Treasury Daily Statement\n",
    "- ECB Euro Exchange Rates\n",
    "- EIA Daily Energy Prices"
   ]
  },
  {
   "cell_type": "code",
   "execution_count": 2,
   "metadata": {},
   "outputs": [],
   "source": [
    "# Required libraries\n",
    "import pandas as pd\n",
    "import requests\n",
    "from bs4 import BeautifulSoup\n",
    "from datetime import datetime\n",
    "import re"
   ]
  },
  {
   "cell_type": "code",
   "execution_count": 3,
   "metadata": {},
   "outputs": [
    {
     "name": "stdout",
     "output_type": "stream",
     "text": [
      "\n",
      "[1] U.S. Treasury Daily Statement\n",
      "Go to: https://fiscaldata.treasury.gov/datasets/daily-treasury-statement\n",
      "Download the latest CSV or JSON dataset manually.\n"
     ]
    }
   ],
   "source": [
    "# U.S. Treasury Daily Statement - Placeholder: CSV must be downloaded manually from the site\n",
    "print(\"\\n[1] U.S. Treasury Daily Statement\")\n",
    "print(\"Go to: https://fiscaldata.treasury.gov/datasets/daily-treasury-statement\")\n",
    "print(\"Download the latest CSV or JSON dataset manually.\")"
   ]
  },
  {
   "cell_type": "code",
   "execution_count": 4,
   "metadata": {},
   "outputs": [
    {
     "name": "stdout",
     "output_type": "stream",
     "text": [
      "\n",
      "[2] ECB Euro Exchange Rates\n",
      "Empty DataFrame\n",
      "Columns: []\n",
      "Index: []\n"
     ]
    }
   ],
   "source": [
    "# ECB Euro Exchange Rates\n",
    "print(\"\\n[2] ECB Euro Exchange Rates\")\n",
    "ecb_url = \"https://www.ecb.europa.eu/stats/policy_and_exchange_rates/euro_reference_exchange_rates/html/index.en.html\"\n",
    "response = requests.get(ecb_url)\n",
    "soup = BeautifulSoup(response.text, 'lxml')\n",
    "\n",
    "# Find exchange rates table\n",
    "table = soup.find('table')\n",
    "rows = table.find_all('tr')[1:]  # skip header\n",
    "\n",
    "data = []\n",
    "for row in rows:\n",
    "    cols = row.find_all('td')\n",
    "    if len(cols) == 2:\n",
    "        currency = cols[0].text.strip()\n",
    "        rate = cols[1].text.strip()\n",
    "        data.append({\"Currency\": currency, \"Rate\": rate, \"Date\": datetime.today().strftime('%Y-%m-%d')})\n",
    "\n",
    "ecb_df = pd.DataFrame(data)\n",
    "print(ecb_df.head())\n",
    "ecb_df.to_csv(\"ecb_exchange_rates.csv\", index=False)"
   ]
  },
  {
   "cell_type": "code",
   "execution_count": 5,
   "metadata": {},
   "outputs": [
    {
     "name": "stdout",
     "output_type": "stream",
     "text": [
      "\n",
      "[3] EIA Daily Energy Prices\n",
      "                                               Entry\n",
      "0  Skip to sub-navigation\\n\\n\\nU.S. Energy Inform...\n",
      "1  Today in Energy\\t\\t\\n\\nSkip to page content\\n\\...\n",
      "2  Today in Energy\\t\\t\\n\\nSkip to page content\\n\\...\n",
      "3  July 24, 2025\\nDaily Prices\\n\\nDaily wholesale...\n",
      "4  July 24, 2025\\nDaily Prices\\n\\nDaily wholesale...\n",
      "5  July 24, 2025\\nDaily Prices\\n\\nDaily wholesale...\n",
      "6  Daily Prices\\n\\n\\n\\n\\n\\n\\n\\n\\nWholesale Spot P...\n",
      "7  Wholesale Spot Petroleum Prices, 7/23/25 Close...\n",
      "8  Prompt-Month Energy Futures, 7/23/25 Settlemen...\n",
      "9  Select Spot Prices for Delivery Today\\n\\n\\n\\nR...\n"
     ]
    }
   ],
   "source": [
    "# EIA Daily Energy Prices\n",
    "print(\"\\n[3] EIA Daily Energy Prices\")\n",
    "eia_url = \"https://www.eia.gov/todayinenergy/prices.php\"\n",
    "response = requests.get(eia_url)\n",
    "soup = BeautifulSoup(response.text, 'lxml')\n",
    "\n",
    "# Extract preformatted or text sections with prices\n",
    "text_blocks = soup.find_all(['p', 'div'])\n",
    "prices = []\n",
    "for block in text_blocks:\n",
    "    if block.text and re.search(r'\\b\\$?[0-9]+\\.[0-9]{2}\\b', block.text):\n",
    "        prices.append(block.text.strip())\n",
    "\n",
    "eia_sample = pd.DataFrame({\"Entry\": prices[:10]})  # Preview first 10 lines with numbers\n",
    "print(eia_sample)\n",
    "eia_sample.to_csv(\"eia_daily_prices_sample.csv\", index=False)"
   ]
  }
 ],
 "metadata": {
  "kernelspec": {
   "display_name": "Python [conda env:base] *",
   "language": "python",
   "name": "conda-base-py"
  },
  "language_info": {
   "codemirror_mode": {
    "name": "ipython",
    "version": 3
   },
   "file_extension": ".py",
   "mimetype": "text/x-python",
   "name": "python",
   "nbconvert_exporter": "python",
   "pygments_lexer": "ipython3",
   "version": "3.12.7"
  }
 },
 "nbformat": 4,
 "nbformat_minor": 4
}
