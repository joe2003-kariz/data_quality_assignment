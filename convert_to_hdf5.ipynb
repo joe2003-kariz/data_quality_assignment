{
 "cells": [
  {
   "cell_type": "markdown",
   "metadata": {},
   "source": [
    "# Convert Scraped CSVs to HDF5\n",
    "This notebook reads previously scraped CSV files (from ECB and EIA), converts them to structured HDF5 format, and stores them in separate groups."
   ]
  },
  {
   "cell_type": "code",
   "execution_count": 10,
   "metadata": {},
   "outputs": [
    {
     "name": "stdout",
     "output_type": "stream",
     "text": [
      "  Currency      Rate        Date\n",
      "0      USD    1.0932  2025-07-25\n",
      "1      GBP    0.8456  2025-07-25\n",
      "2      JPY  141.2100  2025-07-25\n",
      "3      CHF    0.9678  2025-07-25\n",
      "4      CAD    1.4783  2025-07-25\n",
      "ECB data stored in HDF5.\n"
     ]
    }
   ],
   "source": [
    "import pandas as pd\n",
    "from datetime import datetime\n",
    "\n",
    "# Define the HDF5 file path\n",
    "hdf5_path = 'daily_data_storage.h5'\n",
    "\n",
    "df_check = pd.read_csv('ecb_exchange_rates (1).csv')\n",
    "print(df_check.head())\n",
    "\n",
    "# Load ECB exchange rate data\n",
    "ecb_df = pd.read_csv('ecb_exchange_rates (1).csv')\n",
    "ecb_df['Date'] = pd.to_datetime(ecb_df['Date'])\n",
    "ecb_df.set_index('Date', inplace=True)\n",
    "\n",
    "# Store in HDF5 under '/ecb/daily_rates'\n",
    "ecb_df.to_hdf(hdf5_path, key='/ecb/daily_rates', mode='a', format='table', data_columns=True)\n",
    "print(\"ECB data stored in HDF5.\")"
   ]
  },
  {
   "cell_type": "code",
   "execution_count": 12,
   "metadata": {},
   "outputs": [
    {
     "name": "stdout",
     "output_type": "stream",
     "text": [
      "EIA data stored in HDF5.\n"
     ]
    }
   ],
   "source": [
    "# Load EIA daily energy price data (sample)\n",
    "eia_df = pd.read_csv('eia_daily_prices_sample.csv')\n",
    "# Just use index as timestamp placeholder\n",
    "eia_df['Date'] = datetime.today().strftime('%Y-%m-%d')\n",
    "eia_df.set_index('Date', inplace=True)\n",
    "\n",
    "# Store in HDF5 under '/eia/daily_prices'\n",
    "eia_df.to_hdf(hdf5_path, key='/eia/daily_prices', mode='a', format='table', data_columns=True)\n",
    "print(\"EIA data stored in HDF5.\")"
   ]
  },
  {
   "cell_type": "code",
   "execution_count": 14,
   "metadata": {},
   "outputs": [
    {
     "name": "stdout",
     "output_type": "stream",
     "text": [
      "\n",
      "Stored HDF5 keys:\n",
      "['/eia/daily_prices', '/ecb/daily_rates']\n"
     ]
    }
   ],
   "source": [
    "# Optional: Display content of the HDF5 file\n",
    "with pd.HDFStore(hdf5_path) as store:\n",
    "    print(\"\\nStored HDF5 keys:\")\n",
    "    print(store.keys())"
   ]
  },
  {
   "cell_type": "code",
   "execution_count": null,
   "metadata": {},
   "outputs": [],
   "source": []
  }
 ],
 "metadata": {
  "kernelspec": {
   "display_name": "Python [conda env:base] *",
   "language": "python",
   "name": "conda-base-py"
  },
  "language_info": {
   "codemirror_mode": {
    "name": "ipython",
    "version": 3
   },
   "file_extension": ".py",
   "mimetype": "text/x-python",
   "name": "python",
   "nbconvert_exporter": "python",
   "pygments_lexer": "ipython3",
   "version": "3.12.7"
  }
 },
 "nbformat": 4,
 "nbformat_minor": 4
}
